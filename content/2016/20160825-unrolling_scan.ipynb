{
 "cells": [
  {
   "cell_type": "markdown",
   "metadata": {},
   "source": [
    "[Theano](http://deeplearning.net/software/theano/index.html) is an amazing piece of software.\n",
    "It allows to describe a mathematical expression by composing it from simpler, pre-defined components.\n",
    "This high-level description has two main benefits: \n",
    "- the framework can automatically derive gradients using the structure of the composition, making theano particularly suitable to specify complex optimization objectives\n",
    "- theano expressions can be executed on different backends, in particular GPUs that can lead to speedups of 1-2 orders of magnitude\n",
    "\n",
    "These features make Theano particularly suitable for deep learning, since deep neural networks consists of several layers of similar structure. The training procedure can often be posed as a continuous, unconstrained optimization problem, and training large networks on huge amounts of data require "
   ]
  },
  {
   "cell_type": "code",
   "execution_count": 93,
   "metadata": {
    "collapsed": false
   },
   "outputs": [],
   "source": [
    "import theano\n",
    "import theano.tensor as T\n",
    "from numpy import *\n",
    "\n",
    "def stepT(txt, thprev, tWh, tWi, sigma=T.nnet.relu):\n",
    "    tat = T.dot(tWh, thprev) + tWi[txt]\n",
    "    tht = sigma(tat)\n",
    "    return tht\n",
    "\n",
    "def relu(x):\n",
    "    return maximum(0.0, x)\n",
    "\n",
    "def step(xt, hprev, Wh, Wi, sigma=relu):\n",
    "    at = dot(Wh, hprev) + Wi[xt]\n",
    "    ht = sigma(at)\n",
    "    return ht"
   ]
  },
  {
   "cell_type": "markdown",
   "metadata": {},
   "source": [
    "We are using the following version of theano\n",
    "\n",
    "```python\n",
    "print theano.version.version\n",
    "```\n",
    "    0.8.2.dev-RELEASE\n",
    " "
   ]
  },
  {
   "cell_type": "code",
   "execution_count": 94,
   "metadata": {
    "collapsed": false
   },
   "outputs": [],
   "source": [
    "random.seed(20160825)\n",
    "\n",
    "D = 128\n",
    "M = pow(2, 16)\n",
    "\n",
    "D = 2\n",
    "M = 3\n",
    "B = 10\n",
    "\n",
    "Wo = random.randn(D,M).astype(float32)\n",
    "Wh = random.randn(D,D).astype(float32)\n",
    "Wi = random.randn(M,D).astype(float32)\n",
    "h0 = random.rand(D).astype(float32) \n",
    "seq = random.randint(0, M, B+1).astype(int32)\n",
    "x = seq[:-1]\n",
    "y = seq[1:]"
   ]
  },
  {
   "cell_type": "code",
   "execution_count": 98,
   "metadata": {
    "collapsed": false
   },
   "outputs": [
    {
     "name": "stdout",
     "output_type": "stream",
     "text": [
      "[[ 0.  0.]\n",
      " [ 0.  0.]\n",
      " [ 0.  0.]\n",
      " [ 0.  0.]\n",
      " [ 0.  0.]\n",
      " [ 0.  0.]\n",
      " [ 0.  0.]\n",
      " [ 0.  0.]\n",
      " [ 0.  0.]\n",
      " [ 0.  0.]]\n"
     ]
    }
   ],
   "source": [
    "h = h0\n",
    "H_np = zeros((B, D)).astype(float32)\n",
    "for (t,xt) in enumerate(x):\n",
    "    h = step(xt, h, Wh, Wi)\n",
    "    H_np[t] = h\n",
    "print H_np - H_Tscan"
   ]
  },
  {
   "cell_type": "code",
   "execution_count": 95,
   "metadata": {
    "collapsed": true
   },
   "outputs": [],
   "source": [
    "th0 = T.vector()\n",
    "tWh = T.matrix()\n",
    "tWi = T.matrix()\n",
    "tx = T.ivector()"
   ]
  },
  {
   "cell_type": "code",
   "execution_count": 96,
   "metadata": {
    "collapsed": false
   },
   "outputs": [],
   "source": [
    "tH, tUp = theano.scan(fn = stepT, outputs_info=[th0], sequences=[tx], non_sequences=[tWh,tWi])"
   ]
  },
  {
   "cell_type": "code",
   "execution_count": 97,
   "metadata": {
    "collapsed": false
   },
   "outputs": [],
   "source": [
    "H_Tscan = tH.eval({tx:x, tWh:Wh, tWi:Wi, th0:h0})"
   ]
  },
  {
   "cell_type": "code",
   "execution_count": 101,
   "metadata": {
    "collapsed": false
   },
   "outputs": [],
   "source": [
    "th = th0\n",
    "tH_tmp = []\n",
    "for (t,xt) in enumerate(x):\n",
    "    th = stepT(tx[t], th, tWh, tWi)\n",
    "    tH_tmp.append(th)\n",
    "tH_Tunroll = T.stack(tH_tmp)\n",
    "\n",
    "H_Tunroll = tH_Tunroll.eval({tx:x, tWh:Wh, tWi:Wi, th0:h0})"
   ]
  },
  {
   "cell_type": "code",
   "execution_count": 102,
   "metadata": {
    "collapsed": false
   },
   "outputs": [
    {
     "name": "stdout",
     "output_type": "stream",
     "text": [
      "[[ 0.  0.]\n",
      " [ 0.  0.]\n",
      " [ 0.  0.]\n",
      " [ 0.  0.]\n",
      " [ 0.  0.]\n",
      " [ 0.  0.]\n",
      " [ 0.  0.]\n",
      " [ 0.  0.]\n",
      " [ 0.  0.]\n",
      " [ 0.  0.]]\n"
     ]
    }
   ],
   "source": [
    "print H_np - H_Tunroll"
   ]
  },
  {
   "cell_type": "code",
   "execution_count": null,
   "metadata": {
    "collapsed": true
   },
   "outputs": [],
   "source": []
  },
  {
   "cell_type": "code",
   "execution_count": null,
   "metadata": {
    "collapsed": true
   },
   "outputs": [],
   "source": []
  },
  {
   "cell_type": "code",
   "execution_count": null,
   "metadata": {
    "collapsed": true
   },
   "outputs": [],
   "source": []
  },
  {
   "cell_type": "code",
   "execution_count": null,
   "metadata": {
    "collapsed": true
   },
   "outputs": [],
   "source": []
  },
  {
   "cell_type": "code",
   "execution_count": null,
   "metadata": {
    "collapsed": true
   },
   "outputs": [],
   "source": []
  },
  {
   "cell_type": "code",
   "execution_count": null,
   "metadata": {
    "collapsed": true
   },
   "outputs": [],
   "source": []
  }
 ],
 "metadata": {
  "kernelspec": {
   "display_name": "Python 2",
   "language": "python",
   "name": "python2"
  },
  "language_info": {
   "codemirror_mode": {
    "name": "ipython",
    "version": 2
   },
   "file_extension": ".py",
   "mimetype": "text/x-python",
   "name": "python",
   "nbconvert_exporter": "python",
   "pygments_lexer": "ipython2",
   "version": "2.7.6"
  }
 },
 "nbformat": 4,
 "nbformat_minor": 1
}
