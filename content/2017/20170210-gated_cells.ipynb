{
 "cells": [
  {
   "cell_type": "markdown",
   "metadata": {},
   "source": [
    "Gated recurrent neural networks achieve state-of-the-art performance on difficult sequence learning tasks.\n",
    "Due to their more sophisticated architecture, they are able to learn longer term dependencies from data."
   ]
  },
  {
   "cell_type": "markdown",
   "metadata": {},
   "source": [
    "Consider a simple tanh RNN with the following recursive forward equations:\n",
    "\\begin{align}\n",
    "a_t &= W_h h_{t-1} + W_i x_t \\\\\n",
    "h_t &= g(a_t)\n",
    "\\end{align}\n",
    "where the basecase of the recursion could be $h_0 = \\epsilon \\mathbb{1}$ for some small $\\epsilon \\geq 0$.\n",
    "For simplicity, we use an output layer geared towards next-step prediction:\n",
    "\\begin{align}\n",
    "z_t &= W_o h_t \\\\\n",
    "l_t &= \\log( \\mathrm{softmax}(z_t, x_{t+1}) = z_{t,x_{t+1}} - \\log(\\sum \\exp(z_t))\n",
    "\\end{align}\n",
    "We can then use the negative log-likelihood of a sequence $x = [x_1,\\ldots,x_T]$ as a function of the parameters $\\theta=\\{W_i, W_h, W_o\\}$:\n",
    "$$\n",
    "L(\\theta) = -\\sum_{t=0}^{T-1} l_t\n",
    "$$\n"
   ]
  },
  {
   "cell_type": "markdown",
   "metadata": {},
   "source": [
    "Crucial for back-propagation, we need gradients $\\nabla_{a_t} L$ for all time steps.\n",
    "We use three observations to compute these quantities. \n",
    "1. for $t>s$, $l_s$ does not depend on $a_t$ \n",
    "2. $l_t$ depends directly on $a_t$\n",
    "3. for $s>t$, $l_s$ depends on $a_t$ only through $a_{t+1}$. \n",
    "\n",
    "Thus, we can compute $\\nabla_{a_t} L$ using the rule of total derivatives like so:\n",
    "$$\n",
    "\\nabla_{a_t} L = \\nabla_{a_t} l_t + \\sum_d \\frac{\\partial L}{\\partial a_{t+1,d}} \\nabla_{a_t} a_{t+1,d}\n",
    "$$\n",
    "\n"
   ]
  },
  {
   "cell_type": "markdown",
   "metadata": {},
   "source": [
    "[Standford Lecture Notes](https://cs224d.stanford.edu/lecture_notes/LectureNotes4.pdf)"
   ]
  }
 ],
 "metadata": {
  "kernelspec": {
   "display_name": "Python 2",
   "language": "python",
   "name": "python2"
  },
  "language_info": {
   "codemirror_mode": {
    "name": "ipython",
    "version": 2
   },
   "file_extension": ".py",
   "mimetype": "text/x-python",
   "name": "python",
   "nbconvert_exporter": "python",
   "pygments_lexer": "ipython2",
   "version": "2.7.9"
  }
 },
 "nbformat": 4,
 "nbformat_minor": 1
}
